{
 "cells": [
  {
   "metadata": {},
   "cell_type": "raw",
   "source": "",
   "id": "91140aa91f6761c0"
  },
  {
   "metadata": {},
   "cell_type": "markdown",
   "source": [
    "# Utility Notebook\n",
    "***This is a notebook that is going to contain all of the necessary utilities and common actions that we may need throughout the project. The main source for each of these utilities can be found on the example notebooks section of the original Python distro for H3 github page.***"
   ],
   "id": "3fe1e70490a07739"
  },
  {
   "metadata": {},
   "cell_type": "markdown",
   "source": [
    "## Section 1. Setup and installation\n",
    "**See [README.md](https://github.com/KamronAggorURI/Machine-Learning-Final/blob/10a71c006a1bfc4f8770eb2e3b33192599d4c247/README.md) for information on installation steps.**\n",
    "*******\n",
    "Once the project and project requirements have been successfully installed, we can begin. Start by running the cell below."
   ],
   "id": "2ac9edf79f2bb78c"
  },
  {
   "metadata": {},
   "cell_type": "code",
   "outputs": [],
   "execution_count": null,
   "source": "",
   "id": "144c4bed4ed5d702"
  }
 ],
 "metadata": {
  "kernelspec": {
   "display_name": "Python 3",
   "language": "python",
   "name": "python3"
  },
  "language_info": {
   "codemirror_mode": {
    "name": "ipython",
    "version": 2
   },
   "file_extension": ".py",
   "mimetype": "text/x-python",
   "name": "python",
   "nbconvert_exporter": "python",
   "pygments_lexer": "ipython2",
   "version": "2.7.6"
  }
 },
 "nbformat": 4,
 "nbformat_minor": 5
}
